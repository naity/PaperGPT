{
 "cells": [
  {
   "cell_type": "code",
   "execution_count": 6,
   "metadata": {},
   "outputs": [],
   "source": [
    "import chromadb\n",
    "\n",
    "from utils.funcs import search_embedding\n",
    "from sentence_transformers import SentenceTransformer"
   ]
  },
  {
   "cell_type": "code",
   "execution_count": 7,
   "metadata": {},
   "outputs": [],
   "source": [
    "client = chromadb.PersistentClient(path=\"data\")\n",
    "collection = client.get_collection(name=\"papers\")"
   ]
  },
  {
   "cell_type": "code",
   "execution_count": 8,
   "metadata": {},
   "outputs": [
    {
     "data": {
      "text/plain": [
       "113135"
      ]
     },
     "execution_count": 8,
     "metadata": {},
     "output_type": "execute_result"
    }
   ],
   "source": [
    "collection.count()"
   ]
  },
  {
   "cell_type": "code",
   "execution_count": 9,
   "metadata": {},
   "outputs": [],
   "source": [
    "model = SentenceTransformer(\"all-MiniLM-L6-v2\")"
   ]
  },
  {
   "cell_type": "code",
   "execution_count": 11,
   "metadata": {},
   "outputs": [
    {
     "data": {
      "text/plain": [
       "384"
      ]
     },
     "execution_count": 11,
     "metadata": {},
     "output_type": "execute_result"
    }
   ],
   "source": [
    "embedding = model.encode(\n",
    "    \"Single-cell analysis of CD8 T cells in COVID-19 patients\"\n",
    ").tolist()\n",
    "len(embedding)"
   ]
  },
  {
   "cell_type": "code",
   "execution_count": 17,
   "metadata": {},
   "outputs": [
    {
     "data": {
      "text/plain": [
       "{'ids': [['37886355', '37883974', '37799110']],\n",
       " 'distances': None,\n",
       " 'metadatas': [[{'abstract': 'INTRODUCTION: Several efforts have been made to describe the complexity of T cell heterogeneity during the COVID-19 disease; however, there remain gaps in our understanding in terms of the granularity within. METHODS: For this attempt, we performed a single-cell transcriptomic analysis of 33 individuals (4 healthy, 16 COVID-19 positive patients, and 13 COVID-19 recovered individuals). RESULTS: We found CD8(+) T cell-biased lymphopenia in COVID-19 patients compared to healthy and recovered individuals. We also found an optimal Th1/Th2 ratio, indicating an effective immune response during COVID-19. Expansion of activated CD4(+) T and NK T was detected in the COVID-19-positive individuals. Surprisingly, we found cellular and metal ion homeostasis pathways enriched in the COVID-19-positive individuals compared to the healthy and recovered in the CD8(+) T cell populations (CD8(+) TCM and CD8(+) TEM) as well as activated CD4(+) T cells. DISCUSSION: In summary, the COVID-19-positive individuals exhibit a dynamic T cell mediated response. This response may have a possible association with the dysregulation of non-canonical pathways, including housekeeping functions in addition to the conventional antiviral immune response mediated by the T cell subpopulation. These findings considerably extend our insights into the heterogeneity of T cell response during and post-SARS-CoV-2 infection.',\n",
       "    'electronic_publication_date': '10/10/2023',\n",
       "    'journal': 'Front Med (Lausanne)',\n",
       "    'title': 'Dysregulated metal ion homeostasis underscores non-canonical function of CD8(+) T cell during COVID-19.'},\n",
       "   {'abstract': 'Antigen-specific CD8(+) T cells mediate pathogen clearance. T cell phenotype is influenced by T cell receptor (TCR) sequences and environmental signals. Quantitative comparisons of these factors in human disease, while challenging to obtain, can provide foundational insights into basic T cell biology. Here, we investigate the phenotype kinetics of 679 CD8(+) T cell clonotypes, each with specificity against one of three immunogenic viral antigens. Data were collected from a longitudinal study of 68 COVID-19 patients with antigens from severe acute respiratory syndrome coronavirus 2 (SARS-CoV-2), cytomegalovirus (CMV), and influenza. Each antigen is associated with a different type of immune activation during COVID-19. We find TCR sequence to be by far the most important factor in shaping T cell phenotype and persistence for populations specific to any of these antigens. Our work demonstrates the important relationship between TCR sequence and T cell phenotype and persistence and helps explain why T cell phenotype often appears to be determined early in an infection.',\n",
       "    'electronic_publication_date': '10/17/2023',\n",
       "    'journal': 'Cell Rep',\n",
       "    'title': 'T cell receptor sequences are the dominant factor contributing to the phenotype of CD8(+) T cells with specificities against immunogenic viral antigens.'},\n",
       "   {'abstract': 'In COVID-19, hyperinflammatory and dysregulated immune responses contribute to severity. Patients with pre-existing autoimmune conditions can therefore be at increased risk of severe COVID-19 and/or associated sequelae, yet SARS-CoV-2 infection in this group has been little studied. Here, we performed single-cell analysis of peripheral blood mononuclear cells from patients with three major autoimmune diseases (rheumatoid arthritis, psoriasis, or multiple sclerosis) during SARS-CoV-2 infection. We observed compositional differences between the autoimmune disease groups coupled with altered patterns of gene expression, transcription factor activity, and cell-cell communication that substantially shape the immune response under SARS-CoV-2 infection. While enrichment of HLA-DRlow CD14+ monocytes was observed in all three autoimmune disease groups, type-I interferon signaling as well as inflammatory T cell and monocyte responses varied widely between the three groups of patients. Our results reveal disturbed immune responses to SARS-CoV-2 in patients with pre-existing autoimmunity, highlighting important considerations for disease treatment and follow-up.',\n",
       "    'electronic_publication_date': '10/06/2023',\n",
       "    'journal': 'Eur J Immunol',\n",
       "    'title': 'Single-cell multi-omics analysis of COVID-19 patients with pre-existing autoimmune diseases shows aberrant immune responses to infection.'}]],\n",
       " 'embeddings': None,\n",
       " 'documents': None,\n",
       " 'uris': None,\n",
       " 'data': None}"
      ]
     },
     "execution_count": 17,
     "metadata": {},
     "output_type": "execute_result"
    }
   ],
   "source": [
    "collection.query(query_embeddings=embedding, n_results=3, include=[\"metadatas\"])"
   ]
  },
  {
   "cell_type": "code",
   "execution_count": null,
   "metadata": {},
   "outputs": [],
   "source": []
  }
 ],
 "metadata": {
  "kernelspec": {
   "display_name": "ml",
   "language": "python",
   "name": "python3"
  },
  "language_info": {
   "codemirror_mode": {
    "name": "ipython",
    "version": 3
   },
   "file_extension": ".py",
   "mimetype": "text/x-python",
   "name": "python",
   "nbconvert_exporter": "python",
   "pygments_lexer": "ipython3",
   "version": "3.11.0"
  }
 },
 "nbformat": 4,
 "nbformat_minor": 2
}
