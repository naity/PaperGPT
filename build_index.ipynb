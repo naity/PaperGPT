{
 "cells": [
  {
   "cell_type": "code",
   "execution_count": 1,
   "metadata": {},
   "outputs": [],
   "source": [
    "import chromadb\n",
    "import numpy as np\n",
    "import pandas as pd\n",
    "\n",
    "from utils.funcs import upsert_to_collection\n",
    "from datetime import datetime\n",
    "from sentence_transformers import SentenceTransformer"
   ]
  },
  {
   "cell_type": "code",
   "execution_count": 2,
   "metadata": {},
   "outputs": [
    {
     "name": "stdout",
     "output_type": "stream",
     "text": [
      "(29107, 7)\n"
     ]
    },
    {
     "data": {
      "text/html": [
       "<div>\n",
       "<style scoped>\n",
       "    .dataframe tbody tr th:only-of-type {\n",
       "        vertical-align: middle;\n",
       "    }\n",
       "\n",
       "    .dataframe tbody tr th {\n",
       "        vertical-align: top;\n",
       "    }\n",
       "\n",
       "    .dataframe thead th {\n",
       "        text-align: right;\n",
       "    }\n",
       "</style>\n",
       "<table border=\"1\" class=\"dataframe\">\n",
       "  <thead>\n",
       "    <tr style=\"text-align: right;\">\n",
       "      <th></th>\n",
       "      <th>pubmed_id</th>\n",
       "      <th>doi</th>\n",
       "      <th>title</th>\n",
       "      <th>abstract</th>\n",
       "      <th>journal</th>\n",
       "      <th>publication_date</th>\n",
       "      <th>electronic_publication_date</th>\n",
       "    </tr>\n",
       "  </thead>\n",
       "  <tbody>\n",
       "    <tr>\n",
       "      <th>0</th>\n",
       "      <td>37957539</td>\n",
       "      <td>[10.1002/adbi.202300453 [doi]]</td>\n",
       "      <td>Identification and Validation of Glomeruli Cel...</td>\n",
       "      <td>Accumulating evidence indicates that cellular ...</td>\n",
       "      <td>Adv Biol (Weinh)</td>\n",
       "      <td>2023 Nov 13</td>\n",
       "      <td>20231113</td>\n",
       "    </tr>\n",
       "    <tr>\n",
       "      <th>1</th>\n",
       "      <td>37956978</td>\n",
       "      <td>[10.1055/a-2209-6357 [doi]]</td>\n",
       "      <td>The potential of anti-coronavirus plant second...</td>\n",
       "      <td>In early 2020, a global pandemic was announced...</td>\n",
       "      <td>Planta Med</td>\n",
       "      <td>2023 Nov 13</td>\n",
       "      <td>20231113</td>\n",
       "    </tr>\n",
       "    <tr>\n",
       "      <th>2</th>\n",
       "      <td>37956941</td>\n",
       "      <td>[S0014-4835(23)00342-1 [pii], 10.1016/j.exer.2...</td>\n",
       "      <td>Blockade of interleukin-6 trans-signaling prev...</td>\n",
       "      <td>Interleukin-6 (IL-6) is a multifaceted cytokin...</td>\n",
       "      <td>Exp Eye Res</td>\n",
       "      <td>2023 Nov 11</td>\n",
       "      <td>20231111</td>\n",
       "    </tr>\n",
       "    <tr>\n",
       "      <th>3</th>\n",
       "      <td>37956927</td>\n",
       "      <td>[S1568-1637(23)00281-7 [pii], 10.1016/j.arr.20...</td>\n",
       "      <td>Pharmacological modulation of vascular ageing:...</td>\n",
       "      <td>Vascular ageing, characterized by structural a...</td>\n",
       "      <td>Ageing Res Rev</td>\n",
       "      <td>2023 Nov 11</td>\n",
       "      <td>20231111</td>\n",
       "    </tr>\n",
       "    <tr>\n",
       "      <th>4</th>\n",
       "      <td>37956894</td>\n",
       "      <td>[S0006-2952(23)00505-1 [pii], 10.1016/j.bcp.20...</td>\n",
       "      <td>DEL-1 deficiency aggravates pressure overload-...</td>\n",
       "      <td>Recent studies have shown that neutrophils pla...</td>\n",
       "      <td>Biochem Pharmacol</td>\n",
       "      <td>2023 Nov 11</td>\n",
       "      <td>20231111</td>\n",
       "    </tr>\n",
       "  </tbody>\n",
       "</table>\n",
       "</div>"
      ],
      "text/plain": [
       "  pubmed_id                                                doi  \\\n",
       "0  37957539                     [10.1002/adbi.202300453 [doi]]   \n",
       "1  37956978                        [10.1055/a-2209-6357 [doi]]   \n",
       "2  37956941  [S0014-4835(23)00342-1 [pii], 10.1016/j.exer.2...   \n",
       "3  37956927  [S1568-1637(23)00281-7 [pii], 10.1016/j.arr.20...   \n",
       "4  37956894  [S0006-2952(23)00505-1 [pii], 10.1016/j.bcp.20...   \n",
       "\n",
       "                                               title  \\\n",
       "0  Identification and Validation of Glomeruli Cel...   \n",
       "1  The potential of anti-coronavirus plant second...   \n",
       "2  Blockade of interleukin-6 trans-signaling prev...   \n",
       "3  Pharmacological modulation of vascular ageing:...   \n",
       "4  DEL-1 deficiency aggravates pressure overload-...   \n",
       "\n",
       "                                            abstract            journal  \\\n",
       "0  Accumulating evidence indicates that cellular ...   Adv Biol (Weinh)   \n",
       "1  In early 2020, a global pandemic was announced...         Planta Med   \n",
       "2  Interleukin-6 (IL-6) is a multifaceted cytokin...        Exp Eye Res   \n",
       "3  Vascular ageing, characterized by structural a...     Ageing Res Rev   \n",
       "4  Recent studies have shown that neutrophils pla...  Biochem Pharmacol   \n",
       "\n",
       "  publication_date electronic_publication_date  \n",
       "0      2023 Nov 13                    20231113  \n",
       "1      2023 Nov 13                    20231113  \n",
       "2      2023 Nov 11                    20231111  \n",
       "3      2023 Nov 11                    20231111  \n",
       "4      2023 Nov 11                    20231111  "
      ]
     },
     "execution_count": 2,
     "metadata": {},
     "output_type": "execute_result"
    }
   ],
   "source": [
    "# pubmed articles\n",
    "articles = pd.read_parquet(\"data/pubmed_articles.parquet\")\n",
    "print(articles.shape)\n",
    "articles.head()"
   ]
  },
  {
   "cell_type": "code",
   "execution_count": 3,
   "metadata": {},
   "outputs": [
    {
     "data": {
      "text/html": [
       "<div>\n",
       "<style scoped>\n",
       "    .dataframe tbody tr th:only-of-type {\n",
       "        vertical-align: middle;\n",
       "    }\n",
       "\n",
       "    .dataframe tbody tr th {\n",
       "        vertical-align: top;\n",
       "    }\n",
       "\n",
       "    .dataframe thead th {\n",
       "        text-align: right;\n",
       "    }\n",
       "</style>\n",
       "<table border=\"1\" class=\"dataframe\">\n",
       "  <thead>\n",
       "    <tr style=\"text-align: right;\">\n",
       "      <th></th>\n",
       "      <th>pubmed_id</th>\n",
       "      <th>doi</th>\n",
       "      <th>title</th>\n",
       "      <th>abstract</th>\n",
       "      <th>journal</th>\n",
       "      <th>publication_date</th>\n",
       "      <th>electronic_publication_date</th>\n",
       "    </tr>\n",
       "  </thead>\n",
       "  <tbody>\n",
       "    <tr>\n",
       "      <th>0</th>\n",
       "      <td>37957539</td>\n",
       "      <td>[10.1002/adbi.202300453 [doi]]</td>\n",
       "      <td>Identification and Validation of Glomeruli Cel...</td>\n",
       "      <td>Accumulating evidence indicates that cellular ...</td>\n",
       "      <td>Adv Biol (Weinh)</td>\n",
       "      <td>2023 Nov 13</td>\n",
       "      <td>11/13/2023</td>\n",
       "    </tr>\n",
       "    <tr>\n",
       "      <th>1</th>\n",
       "      <td>37956978</td>\n",
       "      <td>[10.1055/a-2209-6357 [doi]]</td>\n",
       "      <td>The potential of anti-coronavirus plant second...</td>\n",
       "      <td>In early 2020, a global pandemic was announced...</td>\n",
       "      <td>Planta Med</td>\n",
       "      <td>2023 Nov 13</td>\n",
       "      <td>11/13/2023</td>\n",
       "    </tr>\n",
       "    <tr>\n",
       "      <th>2</th>\n",
       "      <td>37956941</td>\n",
       "      <td>[S0014-4835(23)00342-1 [pii], 10.1016/j.exer.2...</td>\n",
       "      <td>Blockade of interleukin-6 trans-signaling prev...</td>\n",
       "      <td>Interleukin-6 (IL-6) is a multifaceted cytokin...</td>\n",
       "      <td>Exp Eye Res</td>\n",
       "      <td>2023 Nov 11</td>\n",
       "      <td>11/11/2023</td>\n",
       "    </tr>\n",
       "    <tr>\n",
       "      <th>3</th>\n",
       "      <td>37956927</td>\n",
       "      <td>[S1568-1637(23)00281-7 [pii], 10.1016/j.arr.20...</td>\n",
       "      <td>Pharmacological modulation of vascular ageing:...</td>\n",
       "      <td>Vascular ageing, characterized by structural a...</td>\n",
       "      <td>Ageing Res Rev</td>\n",
       "      <td>2023 Nov 11</td>\n",
       "      <td>11/11/2023</td>\n",
       "    </tr>\n",
       "    <tr>\n",
       "      <th>4</th>\n",
       "      <td>37956894</td>\n",
       "      <td>[S0006-2952(23)00505-1 [pii], 10.1016/j.bcp.20...</td>\n",
       "      <td>DEL-1 deficiency aggravates pressure overload-...</td>\n",
       "      <td>Recent studies have shown that neutrophils pla...</td>\n",
       "      <td>Biochem Pharmacol</td>\n",
       "      <td>2023 Nov 11</td>\n",
       "      <td>11/11/2023</td>\n",
       "    </tr>\n",
       "  </tbody>\n",
       "</table>\n",
       "</div>"
      ],
      "text/plain": [
       "  pubmed_id                                                doi  \\\n",
       "0  37957539                     [10.1002/adbi.202300453 [doi]]   \n",
       "1  37956978                        [10.1055/a-2209-6357 [doi]]   \n",
       "2  37956941  [S0014-4835(23)00342-1 [pii], 10.1016/j.exer.2...   \n",
       "3  37956927  [S1568-1637(23)00281-7 [pii], 10.1016/j.arr.20...   \n",
       "4  37956894  [S0006-2952(23)00505-1 [pii], 10.1016/j.bcp.20...   \n",
       "\n",
       "                                               title  \\\n",
       "0  Identification and Validation of Glomeruli Cel...   \n",
       "1  The potential of anti-coronavirus plant second...   \n",
       "2  Blockade of interleukin-6 trans-signaling prev...   \n",
       "3  Pharmacological modulation of vascular ageing:...   \n",
       "4  DEL-1 deficiency aggravates pressure overload-...   \n",
       "\n",
       "                                            abstract            journal  \\\n",
       "0  Accumulating evidence indicates that cellular ...   Adv Biol (Weinh)   \n",
       "1  In early 2020, a global pandemic was announced...         Planta Med   \n",
       "2  Interleukin-6 (IL-6) is a multifaceted cytokin...        Exp Eye Res   \n",
       "3  Vascular ageing, characterized by structural a...     Ageing Res Rev   \n",
       "4  Recent studies have shown that neutrophils pla...  Biochem Pharmacol   \n",
       "\n",
       "  publication_date electronic_publication_date  \n",
       "0      2023 Nov 13                  11/13/2023  \n",
       "1      2023 Nov 13                  11/13/2023  \n",
       "2      2023 Nov 11                  11/11/2023  \n",
       "3      2023 Nov 11                  11/11/2023  \n",
       "4      2023 Nov 11                  11/11/2023  "
      ]
     },
     "execution_count": 3,
     "metadata": {},
     "output_type": "execute_result"
    }
   ],
   "source": [
    "# reformat the dates\n",
    "def format_date(date):\n",
    "    try:\n",
    "        return datetime.strptime(date, \"%Y%m%d\").strftime(\"%m/%d/%Y\")\n",
    "    except:\n",
    "        return None\n",
    "\n",
    "\n",
    "articles[\"electronic_publication_date\"] = articles[\"electronic_publication_date\"].map(\n",
    "    format_date\n",
    ")\n",
    "articles.head()"
   ]
  },
  {
   "cell_type": "code",
   "execution_count": 4,
   "metadata": {},
   "outputs": [
    {
     "data": {
      "text/plain": [
       "(29107, 7)"
      ]
     },
     "execution_count": 4,
     "metadata": {},
     "output_type": "execute_result"
    }
   ],
   "source": [
    "articles = articles.dropna()\n",
    "articles.shape"
   ]
  },
  {
   "cell_type": "code",
   "execution_count": 5,
   "metadata": {},
   "outputs": [
    {
     "name": "stdout",
     "output_type": "stream",
     "text": [
      "29107\n",
      "Identification and Validation of Glomeruli Cellular Senescence-Related Genes in Diabetic Nephropathy by Multiomics.[SEP]Accumulating evidence indicates that cellular premature senescence of the glomerulus, including endothelial cells, mesangial cells, and podocytes leads to diabetic nephropathy (DN), and DN is regarded as a clinical model of premature senescence. However, the role of cellular senescence-associated genes in the glomerulus in DN progression remains unclear. Therefore, this work aims to identify and validate potential cellular aging-related genes in the glomerulus in DN to provide novel clues for DN treatment based on anti-aging. The microarray GSE96804 dataset, including 41 diabetic glomeruli and 20 control glomeruli, is retrieved from the Gene Expression Omnibus (GEO) database and cellular senescence-related genes (CSRGs) are obtained from the GeneCards database and literature reports. Subsequently, PPI, GO, and KEGG enrichment are analyzed by screening the intersection between differentially expressed genes (DEGs) and CSRGs. scRNA-seq dataset GSE127235 is used to verify core genes expression in glomerulocytes of mice. Finally, db/db mice are utilized to validate the hub gene expression in the glomeruli, and high glucose-induced mesangial cells are used to confirm key gene expression. This study reveals that FOS and ZFP36 may play an anti-aging role in DN to ameliorate cell intracellular premature aging in mesangial cells of glomeruli.\n"
     ]
    }
   ],
   "source": [
    "sentences = (articles[\"title\"] + \"[SEP]\" + articles[\"abstract\"]).tolist()\n",
    "print(len(sentences))\n",
    "print(sentences[0])"
   ]
  },
  {
   "cell_type": "code",
   "execution_count": 6,
   "metadata": {},
   "outputs": [],
   "source": [
    "# use a smaller model\n",
    "model = SentenceTransformer(\"all-MiniLM-L6-v2\")"
   ]
  },
  {
   "cell_type": "code",
   "execution_count": 7,
   "metadata": {},
   "outputs": [
    {
     "data": {
      "application/vnd.jupyter.widget-view+json": {
       "model_id": "e9c9adeabe2b448aab52a9496d983100",
       "version_major": 2,
       "version_minor": 0
      },
      "text/plain": [
       "Batches:   0%|          | 0/228 [00:00<?, ?it/s]"
      ]
     },
     "metadata": {},
     "output_type": "display_data"
    }
   ],
   "source": [
    "embeddings = model.encode(sentences, batch_size=128, show_progress_bar=True)"
   ]
  },
  {
   "cell_type": "code",
   "execution_count": 8,
   "metadata": {},
   "outputs": [
    {
     "data": {
      "text/plain": [
       "(29107, 384)"
      ]
     },
     "execution_count": 8,
     "metadata": {},
     "output_type": "execute_result"
    }
   ],
   "source": [
    "embeddings.shape"
   ]
  },
  {
   "cell_type": "code",
   "execution_count": 9,
   "metadata": {},
   "outputs": [
    {
     "data": {
      "text/plain": [
       "29107"
      ]
     },
     "execution_count": 9,
     "metadata": {},
     "output_type": "execute_result"
    }
   ],
   "source": [
    "# convert to list\n",
    "embeddings = embeddings.tolist()\n",
    "len(embeddings)"
   ]
  },
  {
   "cell_type": "code",
   "execution_count": 10,
   "metadata": {},
   "outputs": [],
   "source": [
    "# use pubmed_id as id\n",
    "ids = articles[\"pubmed_id\"].tolist()"
   ]
  },
  {
   "cell_type": "code",
   "execution_count": 11,
   "metadata": {},
   "outputs": [
    {
     "data": {
      "text/plain": [
       "[{'title': 'Identification and Validation of Glomeruli Cellular Senescence-Related Genes in Diabetic Nephropathy by Multiomics.',\n",
       "  'abstract': 'Accumulating evidence indicates that cellular premature senescence of the glomerulus, including endothelial cells, mesangial cells, and podocytes leads to diabetic nephropathy (DN), and DN is regarded as a clinical model of premature senescence. However, the role of cellular senescence-associated genes in the glomerulus in DN progression remains unclear. Therefore, this work aims to identify and validate potential cellular aging-related genes in the glomerulus in DN to provide novel clues for DN treatment based on anti-aging. The microarray GSE96804 dataset, including 41 diabetic glomeruli and 20 control glomeruli, is retrieved from the Gene Expression Omnibus (GEO) database and cellular senescence-related genes (CSRGs) are obtained from the GeneCards database and literature reports. Subsequently, PPI, GO, and KEGG enrichment are analyzed by screening the intersection between differentially expressed genes (DEGs) and CSRGs. scRNA-seq dataset GSE127235 is used to verify core genes expression in glomerulocytes of mice. Finally, db/db mice are utilized to validate the hub gene expression in the glomeruli, and high glucose-induced mesangial cells are used to confirm key gene expression. This study reveals that FOS and ZFP36 may play an anti-aging role in DN to ameliorate cell intracellular premature aging in mesangial cells of glomeruli.',\n",
       "  'journal': 'Adv Biol (Weinh)',\n",
       "  'electronic_publication_date': '11/13/2023'},\n",
       " {'title': 'The potential of anti-coronavirus plant secondary metabolites in COVID-19 drug discovery as an alternative to repurposed drugs: a review.',\n",
       "  'abstract': 'In early 2020, a global pandemic was announced due to the emergence of severe acute respiratory syndrome coronavirus 2 (SARS-CoV-2), known to cause COVID-19. Despite worldwide efforts, there are only limited options regarding antiviral drug treatments for COVID-19. Although the vaccines are now available, issues such as declining efficacy against different SARS-CoV-2 variants and aging of vaccine-induced immunity highlight the importance of finding more antiviral drugs as a second line of defense against the disease. Drug repurposing has been used to rapidly find COVID-19 therapeutic options. Due to the lack of clinical evidence for the therapeutic benefits and certain serious side effects of repurposed antivirals, the search for an antiviral drug against SARS-CoV-2 with fewer side effects continues. In recent years, numerous studies have included antiviral chemicals from a variety of plant species. A better knowledge of the possible antiviral natural products and their mechanism against SARS-CoV-2 will help to develop stronger and more targeted direct-acting antiviral agents. The aim of the present study was to compile the current data on potential plant metabolites that can be investigated in COVID-19 drug discovery and development. This review represents a collection of plant secondary metabolites and their mode of action against SARS-CoV and SARS-CoV-2.',\n",
       "  'journal': 'Planta Med',\n",
       "  'electronic_publication_date': '11/13/2023'},\n",
       " {'title': 'Blockade of interleukin-6 trans-signaling prevents mitochondrial dysfunction and cellular senescence in retinal endothelial cells.',\n",
       "  'abstract': 'Interleukin-6 (IL-6) is a multifaceted cytokine implicated in the pathogenesis of diabetic retinopathy (DR). Its activity extends through cis- and trans-signaling (TS) pathways, with cis-signaling limited to specific cell types possessing the membrane-bound IL-6 receptor, while trans-signaling broadly activates various cells without the membrane bound IL-6 receptor, including retinal endothelial cells. In this study, we determined the effects of interleukin-6 trans-signaling on mitochondrial dysfunction and cellular senescence in retinal endothelial cells. Human retinal endothelial cells (HRECs) were cultured and treated with IL-6 + soluble IL-6R or Hyper IL-6 to activate trans-signaling, and with sgp130Fc for inhibition. RT-PCR was conducted to analyze gene expression changes, primarily associated with inflammation and senescence. Cellular senescence was assessed using SA beta-gal staining. Mitochondrial function was evaluated using Seahorse XFe24 Bioanalyzer. IL-6 trans-signaling induced inflammatory gene expression as indicated by the upregulation of ICAM1, MCP1, and SERPINA3 levels. Additionally, it reduced mitochondrial respiration and oxidative phosphorylation, and these effects were counteracted by sgp130Fc. Moreover, IL-6 trans-signaling led to altered expression of apoptosis-associated genes, including downregulation of FIS1, BCL2, and MCL1, while promoting cellular senescence, a phenomenon mitigated by sgp130Fc. These results not only deepen our understanding of IL-6 in DR but also carry broader implications for age-related diseases and the aging process itself. This study underscores the potential therapeutic value of targeting IL-6 trans-signaling with sgp130Fc as a promising anti-inflammatory approach for DR and potentially other inflammatory conditions. Further in-vivo investigations are warranted to elucidate the function of IL-6 trans-signaling in aging-related pathologies and overall organismal health.',\n",
       "  'journal': 'Exp Eye Res',\n",
       "  'electronic_publication_date': '11/11/2023'}]"
      ]
     },
     "execution_count": 11,
     "metadata": {},
     "output_type": "execute_result"
    }
   ],
   "source": [
    "# prepare metadata\n",
    "metadatas = articles.loc[\n",
    "    :, [\"title\", \"abstract\", \"journal\", \"electronic_publication_date\"]\n",
    "].to_dict(\"records\")\n",
    "metadatas[:3]"
   ]
  },
  {
   "cell_type": "code",
   "execution_count": 12,
   "metadata": {},
   "outputs": [],
   "source": [
    "# chroma\n",
    "client = chromadb.PersistentClient(path=\"data\")\n",
    "collection = client.get_or_create_collection(\n",
    "    name=\"papers\", metadata={\"hnsw:space\": \"cosine\"}\n",
    ")"
   ]
  },
  {
   "cell_type": "code",
   "execution_count": 13,
   "metadata": {},
   "outputs": [
    {
     "data": {
      "text/plain": [
       "0"
      ]
     },
     "execution_count": 13,
     "metadata": {},
     "output_type": "execute_result"
    }
   ],
   "source": [
    "collection.count()"
   ]
  },
  {
   "cell_type": "code",
   "execution_count": 14,
   "metadata": {},
   "outputs": [],
   "source": [
    "# upsert papers to collection\n",
    "upsert_to_collection(collection, ids, embeddings, metadatas, batch_size=10000)"
   ]
  },
  {
   "cell_type": "code",
   "execution_count": 15,
   "metadata": {},
   "outputs": [
    {
     "data": {
      "text/plain": [
       "29107"
      ]
     },
     "execution_count": 15,
     "metadata": {},
     "output_type": "execute_result"
    }
   ],
   "source": [
    "collection.count()"
   ]
  },
  {
   "cell_type": "code",
   "execution_count": null,
   "metadata": {},
   "outputs": [],
   "source": []
  }
 ],
 "metadata": {
  "kernelspec": {
   "display_name": "pgpt",
   "language": "python",
   "name": "python3"
  },
  "language_info": {
   "codemirror_mode": {
    "name": "ipython",
    "version": 3
   },
   "file_extension": ".py",
   "mimetype": "text/x-python",
   "name": "python",
   "nbconvert_exporter": "python",
   "pygments_lexer": "ipython3",
   "version": "3.11.0"
  },
  "orig_nbformat": 4
 },
 "nbformat": 4,
 "nbformat_minor": 2
}
