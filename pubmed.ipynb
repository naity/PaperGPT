{
 "cells": [
  {
   "cell_type": "code",
   "execution_count": 1,
   "metadata": {},
   "outputs": [],
   "source": [
    "import pandas as pd\n",
    "\n",
    "from utils.funcs import *\n",
    "from pathlib import Path\n",
    "from Bio import Medline\n",
    "from joblib import Parallel, delayed"
   ]
  },
  {
   "cell_type": "code",
   "execution_count": 2,
   "metadata": {},
   "outputs": [
    {
     "data": {
      "text/plain": [
       "['Aging',\n",
       " 'Allergy',\n",
       " 'Biochemistry',\n",
       " 'Bioengineering',\n",
       " 'Bioinformatics',\n",
       " 'Cancer',\n",
       " 'Cell Biology',\n",
       " 'Developmental Biology',\n",
       " 'Genomics',\n",
       " 'Immunology',\n",
       " 'Infectious Disease',\n",
       " 'Microbiology',\n",
       " 'Molecular Biology',\n",
       " 'Neuroscience',\n",
       " 'Pathology',\n",
       " 'Pharmacology',\n",
       " 'Physiology',\n",
       " 'Single Cell',\n",
       " 'Structural Biology',\n",
       " 'Virology']"
      ]
     },
     "execution_count": 2,
     "metadata": {},
     "output_type": "execute_result"
    }
   ],
   "source": [
    "queries = [\n",
    "    \"immunology\",\n",
    "    \"bioinformatics\",\n",
    "    \"single cell\",\n",
    "    \"cancer\",\n",
    "    \"infectious disease\",\n",
    "    \"genomics\",\n",
    "    \"microbiology\",\n",
    "    \"virology\",\n",
    "    \"pathology\",\n",
    "    \"biochemistry\",\n",
    "    \"molecular biology\",\n",
    "    \"cell biology\",\n",
    "    \"neuroscience\",\n",
    "    \"structural biology\",\n",
    "    \"pharmacology\",\n",
    "    \"Physiology\",\n",
    "    \"allergy\",\n",
    "    \"developmental biology\",\n",
    "    \"aging\",\n",
    "    \"bioengineering\",\n",
    "]\n",
    "# title case\n",
    "queries = [q.title() for q in queries]\n",
    "# sort queries alphabetically\n",
    "queries = sorted(queries)\n",
    "queries"
   ]
  },
  {
   "cell_type": "code",
   "execution_count": 3,
   "metadata": {},
   "outputs": [],
   "source": [
    "out_file = Path(\"data/recent_papers.txt\")"
   ]
  },
  {
   "cell_type": "code",
   "execution_count": 4,
   "metadata": {},
   "outputs": [],
   "source": [
    "# if exists, delete it\n",
    "if out_file.exists():\n",
    "    out_file.unlink()"
   ]
  },
  {
   "cell_type": "code",
   "execution_count": 5,
   "metadata": {},
   "outputs": [
    {
     "name": "stdout",
     "output_type": "stream",
     "text": [
      "Found 2500 results for Aging\n"
     ]
    },
    {
     "name": "stderr",
     "output_type": "stream",
     "text": [
      "100%|██████████| 25/25 [00:38<00:00,  1.53s/it]\n"
     ]
    },
    {
     "name": "stdout",
     "output_type": "stream",
     "text": [
      "Found 2500 results for Allergy\n"
     ]
    },
    {
     "name": "stderr",
     "output_type": "stream",
     "text": [
      "100%|██████████| 25/25 [00:39<00:00,  1.59s/it]\n"
     ]
    },
    {
     "name": "stdout",
     "output_type": "stream",
     "text": [
      "Found 2500 results for Biochemistry\n"
     ]
    },
    {
     "name": "stderr",
     "output_type": "stream",
     "text": [
      "100%|██████████| 25/25 [00:36<00:00,  1.48s/it]\n"
     ]
    },
    {
     "name": "stdout",
     "output_type": "stream",
     "text": [
      "Found 2500 results for Bioengineering\n"
     ]
    },
    {
     "name": "stderr",
     "output_type": "stream",
     "text": [
      "100%|██████████| 25/25 [00:35<00:00,  1.43s/it]\n"
     ]
    },
    {
     "name": "stdout",
     "output_type": "stream",
     "text": [
      "Found 2500 results for Bioinformatics\n"
     ]
    },
    {
     "name": "stderr",
     "output_type": "stream",
     "text": [
      "100%|██████████| 25/25 [00:45<00:00,  1.81s/it]\n"
     ]
    },
    {
     "name": "stdout",
     "output_type": "stream",
     "text": [
      "Found 2500 results for Cancer\n"
     ]
    },
    {
     "name": "stderr",
     "output_type": "stream",
     "text": [
      "100%|██████████| 25/25 [01:09<00:00,  2.79s/it]\n"
     ]
    },
    {
     "name": "stdout",
     "output_type": "stream",
     "text": [
      "Found 2500 results for Cell Biology\n"
     ]
    },
    {
     "name": "stderr",
     "output_type": "stream",
     "text": [
      "100%|██████████| 25/25 [01:13<00:00,  2.93s/it]\n"
     ]
    },
    {
     "name": "stdout",
     "output_type": "stream",
     "text": [
      "Found 2500 results for Developmental Biology\n"
     ]
    },
    {
     "name": "stderr",
     "output_type": "stream",
     "text": [
      "100%|██████████| 25/25 [00:47<00:00,  1.89s/it]\n"
     ]
    },
    {
     "name": "stdout",
     "output_type": "stream",
     "text": [
      "Found 2500 results for Genomics\n"
     ]
    },
    {
     "name": "stderr",
     "output_type": "stream",
     "text": [
      "100%|██████████| 25/25 [00:43<00:00,  1.74s/it]\n"
     ]
    },
    {
     "name": "stdout",
     "output_type": "stream",
     "text": [
      "Found 2500 results for Immunology\n"
     ]
    },
    {
     "name": "stderr",
     "output_type": "stream",
     "text": [
      "100%|██████████| 25/25 [00:35<00:00,  1.43s/it]\n"
     ]
    },
    {
     "name": "stdout",
     "output_type": "stream",
     "text": [
      "Found 2500 results for Infectious Disease\n"
     ]
    },
    {
     "name": "stderr",
     "output_type": "stream",
     "text": [
      "100%|██████████| 25/25 [00:35<00:00,  1.40s/it]\n"
     ]
    },
    {
     "name": "stdout",
     "output_type": "stream",
     "text": [
      "Found 2500 results for Microbiology\n"
     ]
    },
    {
     "name": "stderr",
     "output_type": "stream",
     "text": [
      "100%|██████████| 25/25 [00:36<00:00,  1.45s/it]\n"
     ]
    },
    {
     "name": "stdout",
     "output_type": "stream",
     "text": [
      "Found 2500 results for Molecular Biology\n"
     ]
    },
    {
     "name": "stderr",
     "output_type": "stream",
     "text": [
      "100%|██████████| 25/25 [00:35<00:00,  1.43s/it]\n"
     ]
    },
    {
     "name": "stdout",
     "output_type": "stream",
     "text": [
      "Found 2500 results for Neuroscience\n"
     ]
    },
    {
     "name": "stderr",
     "output_type": "stream",
     "text": [
      "100%|██████████| 25/25 [00:35<00:00,  1.41s/it]\n"
     ]
    },
    {
     "name": "stdout",
     "output_type": "stream",
     "text": [
      "Found 2500 results for Pathology\n"
     ]
    },
    {
     "name": "stderr",
     "output_type": "stream",
     "text": [
      "100%|██████████| 25/25 [00:35<00:00,  1.42s/it]\n"
     ]
    },
    {
     "name": "stdout",
     "output_type": "stream",
     "text": [
      "Found 2500 results for Pharmacology\n"
     ]
    },
    {
     "name": "stderr",
     "output_type": "stream",
     "text": [
      "100%|██████████| 25/25 [00:32<00:00,  1.32s/it]\n"
     ]
    },
    {
     "name": "stdout",
     "output_type": "stream",
     "text": [
      "Found 2500 results for Physiology\n"
     ]
    },
    {
     "name": "stderr",
     "output_type": "stream",
     "text": [
      "100%|██████████| 25/25 [00:40<00:00,  1.62s/it]\n"
     ]
    },
    {
     "name": "stdout",
     "output_type": "stream",
     "text": [
      "Found 2500 results for Single Cell\n"
     ]
    },
    {
     "name": "stderr",
     "output_type": "stream",
     "text": [
      "100%|██████████| 25/25 [00:35<00:00,  1.42s/it]\n"
     ]
    },
    {
     "name": "stdout",
     "output_type": "stream",
     "text": [
      "Found 2500 results for Structural Biology\n"
     ]
    },
    {
     "name": "stderr",
     "output_type": "stream",
     "text": [
      "100%|██████████| 25/25 [00:38<00:00,  1.52s/it]\n"
     ]
    },
    {
     "name": "stdout",
     "output_type": "stream",
     "text": [
      "Found 2500 results for Virology\n"
     ]
    },
    {
     "name": "stderr",
     "output_type": "stream",
     "text": [
      "100%|██████████| 25/25 [00:36<00:00,  1.46s/it]\n"
     ]
    }
   ],
   "source": [
    "# search and download papers for each query\n",
    "for query in queries:\n",
    "    search_and_download(query, out_file)"
   ]
  },
  {
   "cell_type": "code",
   "execution_count": 6,
   "metadata": {},
   "outputs": [],
   "source": [
    "def parse(record):\n",
    "    \"\"\"Parse a single Medline record\"\"\"\n",
    "    return {\n",
    "        \"pubmed_id\": record.get(\"PMID\"),\n",
    "        \"doi\": record.get(\"AID\"),\n",
    "        \"title\": record.get(\"TI\"),\n",
    "        \"abstract\": record.get(\"AB\"),\n",
    "        \"journal\": record.get(\"TA\"),\n",
    "        \"publication_date\": record.get(\"DP\"),\n",
    "        \"electronic_publication_date\": record.get(\"DEP\"),\n",
    "    }"
   ]
  },
  {
   "cell_type": "code",
   "execution_count": 7,
   "metadata": {},
   "outputs": [
    {
     "data": {
      "text/plain": [
       "50000"
      ]
     },
     "execution_count": 7,
     "metadata": {},
     "output_type": "execute_result"
    }
   ],
   "source": [
    "# parse the downloaded papers in parallel\n",
    "with open(out_file, \"r\") as handle:\n",
    "    records = Medline.parse(handle)\n",
    "    records = Parallel(n_jobs=-1)(delayed(parse)(record) for record in records)\n",
    "len(records)"
   ]
  },
  {
   "cell_type": "code",
   "execution_count": 8,
   "metadata": {},
   "outputs": [
    {
     "data": {
      "text/plain": [
       "(50000, 7)"
      ]
     },
     "execution_count": 8,
     "metadata": {},
     "output_type": "execute_result"
    }
   ],
   "source": [
    "# convert to a pandas dataframe\n",
    "articles = pd.DataFrame(records)\n",
    "articles.shape"
   ]
  },
  {
   "cell_type": "code",
   "execution_count": 9,
   "metadata": {},
   "outputs": [
    {
     "data": {
      "text/html": [
       "<div>\n",
       "<style scoped>\n",
       "    .dataframe tbody tr th:only-of-type {\n",
       "        vertical-align: middle;\n",
       "    }\n",
       "\n",
       "    .dataframe tbody tr th {\n",
       "        vertical-align: top;\n",
       "    }\n",
       "\n",
       "    .dataframe thead th {\n",
       "        text-align: right;\n",
       "    }\n",
       "</style>\n",
       "<table border=\"1\" class=\"dataframe\">\n",
       "  <thead>\n",
       "    <tr style=\"text-align: right;\">\n",
       "      <th></th>\n",
       "      <th>pubmed_id</th>\n",
       "      <th>doi</th>\n",
       "      <th>title</th>\n",
       "      <th>abstract</th>\n",
       "      <th>journal</th>\n",
       "      <th>publication_date</th>\n",
       "      <th>electronic_publication_date</th>\n",
       "    </tr>\n",
       "  </thead>\n",
       "  <tbody>\n",
       "    <tr>\n",
       "      <th>0</th>\n",
       "      <td>37957539</td>\n",
       "      <td>[10.1002/adbi.202300453 [doi]]</td>\n",
       "      <td>Identification and Validation of Glomeruli Cel...</td>\n",
       "      <td>Accumulating evidence indicates that cellular ...</td>\n",
       "      <td>Adv Biol (Weinh)</td>\n",
       "      <td>2023 Nov 13</td>\n",
       "      <td>20231113</td>\n",
       "    </tr>\n",
       "    <tr>\n",
       "      <th>1</th>\n",
       "      <td>37956978</td>\n",
       "      <td>[10.1055/a-2209-6357 [doi]]</td>\n",
       "      <td>The potential of anti-coronavirus plant second...</td>\n",
       "      <td>In early 2020, a global pandemic was announced...</td>\n",
       "      <td>Planta Med</td>\n",
       "      <td>2023 Nov 13</td>\n",
       "      <td>20231113</td>\n",
       "    </tr>\n",
       "    <tr>\n",
       "      <th>2</th>\n",
       "      <td>37956941</td>\n",
       "      <td>[S0014-4835(23)00342-1 [pii], 10.1016/j.exer.2...</td>\n",
       "      <td>Blockade of interleukin-6 trans-signaling prev...</td>\n",
       "      <td>Interleukin-6 (IL-6) is a multifaceted cytokin...</td>\n",
       "      <td>Exp Eye Res</td>\n",
       "      <td>2023 Nov 11</td>\n",
       "      <td>20231111</td>\n",
       "    </tr>\n",
       "    <tr>\n",
       "      <th>3</th>\n",
       "      <td>37956927</td>\n",
       "      <td>[S1568-1637(23)00281-7 [pii], 10.1016/j.arr.20...</td>\n",
       "      <td>Pharmacological modulation of vascular ageing:...</td>\n",
       "      <td>Vascular ageing, characterized by structural a...</td>\n",
       "      <td>Ageing Res Rev</td>\n",
       "      <td>2023 Nov 11</td>\n",
       "      <td>20231111</td>\n",
       "    </tr>\n",
       "    <tr>\n",
       "      <th>4</th>\n",
       "      <td>37956894</td>\n",
       "      <td>[S0006-2952(23)00505-1 [pii], 10.1016/j.bcp.20...</td>\n",
       "      <td>DEL-1 deficiency aggravates pressure overload-...</td>\n",
       "      <td>Recent studies have shown that neutrophils pla...</td>\n",
       "      <td>Biochem Pharmacol</td>\n",
       "      <td>2023 Nov 11</td>\n",
       "      <td>20231111</td>\n",
       "    </tr>\n",
       "  </tbody>\n",
       "</table>\n",
       "</div>"
      ],
      "text/plain": [
       "  pubmed_id                                                doi  \\\n",
       "0  37957539                     [10.1002/adbi.202300453 [doi]]   \n",
       "1  37956978                        [10.1055/a-2209-6357 [doi]]   \n",
       "2  37956941  [S0014-4835(23)00342-1 [pii], 10.1016/j.exer.2...   \n",
       "3  37956927  [S1568-1637(23)00281-7 [pii], 10.1016/j.arr.20...   \n",
       "4  37956894  [S0006-2952(23)00505-1 [pii], 10.1016/j.bcp.20...   \n",
       "\n",
       "                                               title  \\\n",
       "0  Identification and Validation of Glomeruli Cel...   \n",
       "1  The potential of anti-coronavirus plant second...   \n",
       "2  Blockade of interleukin-6 trans-signaling prev...   \n",
       "3  Pharmacological modulation of vascular ageing:...   \n",
       "4  DEL-1 deficiency aggravates pressure overload-...   \n",
       "\n",
       "                                            abstract            journal  \\\n",
       "0  Accumulating evidence indicates that cellular ...   Adv Biol (Weinh)   \n",
       "1  In early 2020, a global pandemic was announced...         Planta Med   \n",
       "2  Interleukin-6 (IL-6) is a multifaceted cytokin...        Exp Eye Res   \n",
       "3  Vascular ageing, characterized by structural a...     Ageing Res Rev   \n",
       "4  Recent studies have shown that neutrophils pla...  Biochem Pharmacol   \n",
       "\n",
       "  publication_date electronic_publication_date  \n",
       "0      2023 Nov 13                    20231113  \n",
       "1      2023 Nov 13                    20231113  \n",
       "2      2023 Nov 11                    20231111  \n",
       "3      2023 Nov 11                    20231111  \n",
       "4      2023 Nov 11                    20231111  "
      ]
     },
     "execution_count": 9,
     "metadata": {},
     "output_type": "execute_result"
    }
   ],
   "source": [
    "articles.head()"
   ]
  },
  {
   "cell_type": "code",
   "execution_count": 10,
   "metadata": {},
   "outputs": [
    {
     "data": {
      "text/plain": [
       "(33968, 7)"
      ]
     },
     "execution_count": 10,
     "metadata": {},
     "output_type": "execute_result"
    }
   ],
   "source": [
    "# filter out duplicates\n",
    "articles = articles.drop_duplicates(subset=\"pubmed_id\", ignore_index=True)\n",
    "articles.shape"
   ]
  },
  {
   "cell_type": "code",
   "execution_count": 11,
   "metadata": {},
   "outputs": [
    {
     "data": {
      "text/plain": [
       "(29107, 7)"
      ]
     },
     "execution_count": 11,
     "metadata": {},
     "output_type": "execute_result"
    }
   ],
   "source": [
    "# remove rows with missing values\n",
    "articles = articles.dropna()\n",
    "articles.shape"
   ]
  },
  {
   "cell_type": "code",
   "execution_count": 12,
   "metadata": {},
   "outputs": [
    {
     "data": {
      "text/plain": [
       "False"
      ]
     },
     "execution_count": 12,
     "metadata": {},
     "output_type": "execute_result"
    }
   ],
   "source": [
    "# check if abstract is None\n",
    "articles[\"abstract\"].isnull().any()"
   ]
  },
  {
   "cell_type": "code",
   "execution_count": 13,
   "metadata": {},
   "outputs": [
    {
     "data": {
      "text/html": [
       "<div>\n",
       "<style scoped>\n",
       "    .dataframe tbody tr th:only-of-type {\n",
       "        vertical-align: middle;\n",
       "    }\n",
       "\n",
       "    .dataframe tbody tr th {\n",
       "        vertical-align: top;\n",
       "    }\n",
       "\n",
       "    .dataframe thead th {\n",
       "        text-align: right;\n",
       "    }\n",
       "</style>\n",
       "<table border=\"1\" class=\"dataframe\">\n",
       "  <thead>\n",
       "    <tr style=\"text-align: right;\">\n",
       "      <th></th>\n",
       "      <th>pubmed_id</th>\n",
       "      <th>doi</th>\n",
       "      <th>title</th>\n",
       "      <th>abstract</th>\n",
       "      <th>journal</th>\n",
       "      <th>publication_date</th>\n",
       "      <th>electronic_publication_date</th>\n",
       "    </tr>\n",
       "  </thead>\n",
       "  <tbody>\n",
       "    <tr>\n",
       "      <th>0</th>\n",
       "      <td>37957539</td>\n",
       "      <td>[10.1002/adbi.202300453 [doi]]</td>\n",
       "      <td>Identification and Validation of Glomeruli Cel...</td>\n",
       "      <td>Accumulating evidence indicates that cellular ...</td>\n",
       "      <td>Adv Biol (Weinh)</td>\n",
       "      <td>2023 Nov 13</td>\n",
       "      <td>20231113</td>\n",
       "    </tr>\n",
       "    <tr>\n",
       "      <th>1</th>\n",
       "      <td>37956978</td>\n",
       "      <td>[10.1055/a-2209-6357 [doi]]</td>\n",
       "      <td>The potential of anti-coronavirus plant second...</td>\n",
       "      <td>In early 2020, a global pandemic was announced...</td>\n",
       "      <td>Planta Med</td>\n",
       "      <td>2023 Nov 13</td>\n",
       "      <td>20231113</td>\n",
       "    </tr>\n",
       "    <tr>\n",
       "      <th>2</th>\n",
       "      <td>37956941</td>\n",
       "      <td>[S0014-4835(23)00342-1 [pii], 10.1016/j.exer.2...</td>\n",
       "      <td>Blockade of interleukin-6 trans-signaling prev...</td>\n",
       "      <td>Interleukin-6 (IL-6) is a multifaceted cytokin...</td>\n",
       "      <td>Exp Eye Res</td>\n",
       "      <td>2023 Nov 11</td>\n",
       "      <td>20231111</td>\n",
       "    </tr>\n",
       "    <tr>\n",
       "      <th>3</th>\n",
       "      <td>37956927</td>\n",
       "      <td>[S1568-1637(23)00281-7 [pii], 10.1016/j.arr.20...</td>\n",
       "      <td>Pharmacological modulation of vascular ageing:...</td>\n",
       "      <td>Vascular ageing, characterized by structural a...</td>\n",
       "      <td>Ageing Res Rev</td>\n",
       "      <td>2023 Nov 11</td>\n",
       "      <td>20231111</td>\n",
       "    </tr>\n",
       "    <tr>\n",
       "      <th>4</th>\n",
       "      <td>37956894</td>\n",
       "      <td>[S0006-2952(23)00505-1 [pii], 10.1016/j.bcp.20...</td>\n",
       "      <td>DEL-1 deficiency aggravates pressure overload-...</td>\n",
       "      <td>Recent studies have shown that neutrophils pla...</td>\n",
       "      <td>Biochem Pharmacol</td>\n",
       "      <td>2023 Nov 11</td>\n",
       "      <td>20231111</td>\n",
       "    </tr>\n",
       "  </tbody>\n",
       "</table>\n",
       "</div>"
      ],
      "text/plain": [
       "  pubmed_id                                                doi  \\\n",
       "0  37957539                     [10.1002/adbi.202300453 [doi]]   \n",
       "1  37956978                        [10.1055/a-2209-6357 [doi]]   \n",
       "2  37956941  [S0014-4835(23)00342-1 [pii], 10.1016/j.exer.2...   \n",
       "3  37956927  [S1568-1637(23)00281-7 [pii], 10.1016/j.arr.20...   \n",
       "4  37956894  [S0006-2952(23)00505-1 [pii], 10.1016/j.bcp.20...   \n",
       "\n",
       "                                               title  \\\n",
       "0  Identification and Validation of Glomeruli Cel...   \n",
       "1  The potential of anti-coronavirus plant second...   \n",
       "2  Blockade of interleukin-6 trans-signaling prev...   \n",
       "3  Pharmacological modulation of vascular ageing:...   \n",
       "4  DEL-1 deficiency aggravates pressure overload-...   \n",
       "\n",
       "                                            abstract            journal  \\\n",
       "0  Accumulating evidence indicates that cellular ...   Adv Biol (Weinh)   \n",
       "1  In early 2020, a global pandemic was announced...         Planta Med   \n",
       "2  Interleukin-6 (IL-6) is a multifaceted cytokin...        Exp Eye Res   \n",
       "3  Vascular ageing, characterized by structural a...     Ageing Res Rev   \n",
       "4  Recent studies have shown that neutrophils pla...  Biochem Pharmacol   \n",
       "\n",
       "  publication_date electronic_publication_date  \n",
       "0      2023 Nov 13                    20231113  \n",
       "1      2023 Nov 13                    20231113  \n",
       "2      2023 Nov 11                    20231111  \n",
       "3      2023 Nov 11                    20231111  \n",
       "4      2023 Nov 11                    20231111  "
      ]
     },
     "execution_count": 13,
     "metadata": {},
     "output_type": "execute_result"
    }
   ],
   "source": [
    "articles.reset_index(drop=True, inplace=True)\n",
    "articles.head()"
   ]
  },
  {
   "cell_type": "code",
   "execution_count": 14,
   "metadata": {},
   "outputs": [],
   "source": [
    "# save to parquet\n",
    "articles.to_parquet(\"data/pubmed_articles.parquet\")"
   ]
  },
  {
   "cell_type": "code",
   "execution_count": null,
   "metadata": {},
   "outputs": [],
   "source": []
  }
 ],
 "metadata": {
  "kernelspec": {
   "display_name": "ml",
   "language": "python",
   "name": "python3"
  },
  "language_info": {
   "codemirror_mode": {
    "name": "ipython",
    "version": 3
   },
   "file_extension": ".py",
   "mimetype": "text/x-python",
   "name": "python",
   "nbconvert_exporter": "python",
   "pygments_lexer": "ipython3",
   "version": "3.11.0"
  },
  "orig_nbformat": 4
 },
 "nbformat": 4,
 "nbformat_minor": 2
}
